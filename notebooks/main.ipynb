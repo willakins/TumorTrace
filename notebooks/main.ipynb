{
 "cells": [
  {
   "cell_type": "markdown",
   "metadata": {},
   "source": [
    "Notebook for running models"
   ]
  },
  {
   "cell_type": "code",
   "execution_count": null,
   "metadata": {
    "vscode": {
     "languageId": "plaintext"
    }
   },
   "outputs": [],
   "source": [
    "from utils import visualization\n",
    "\n",
    "from models/3D_CNN import model\n",
    "from models/3D_CNN import train\n",
    "from models/3D_CNN import evaluate\n",
    "\n",
    "CNN_model = model()\n",
    "train(CNN_model)\n",
    "results = evaluate(model)\n",
    "\n",
    "visualization(results)"
   ]
  }
 ],
 "metadata": {
  "language_info": {
   "name": "python"
  }
 },
 "nbformat": 4,
 "nbformat_minor": 2
}
