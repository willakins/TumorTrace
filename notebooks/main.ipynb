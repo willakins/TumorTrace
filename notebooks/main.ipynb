{
 "cells": [
  {
   "cell_type": "markdown",
   "metadata": {},
   "source": [
    "# Model Comparison in The Domain of Brain Tumor Image Classification\n",
    "For our final project for Spring 2025, CS 4644 - Deep Learning, we analyze and compare the results from three unique models:\n",
    "1. 3D CNN - Turning 2D images into 3D datapoints to reconstruct a full brain image.\n",
    "2. ResNet18 - Applying transfer learning by taking a pretrained ResNet-18 model (trained on ImageNet) and adapting it to MRI scans through the fine-tuning of a final fully connected layer.\n",
    "3. Inception - Applying transfer learning in the same way as ResNet, but for another popular and successful model.\n",
    "\n",
    "The following code allows the reader to experiment with these 3 models and observe their results."
   ]
  },
  {
   "cell_type": "markdown",
   "metadata": {},
   "source": [
    "# Step 0: Get necessary imports, set global variables, and setup dataset"
   ]
  },
  {
   "cell_type": "code",
   "execution_count": 15,
   "metadata": {},
   "outputs": [
    {
     "name": "stdout",
     "output_type": "stream",
     "text": [
      "The autoreload extension is already loaded. To reload it, use:\n",
      "  %reload_ext autoreload\n"
     ]
    }
   ],
   "source": [
    "# Basic imports\n",
    "import sys\n",
    "import os\n",
    "sys.path.append(os.path.abspath(os.path.join(os.getcwd(), '..')))\n",
    "import torch\n",
    "from PIL import Image\n",
    "import matplotlib.pyplot as plt\n",
    "\n",
    "# Model imports\n",
    "from src.models import (\n",
    "    CNN_3D,\n",
    "    MyResNet,\n",
    "    MyInception\n",
    ")\n",
    "# Helper imports\n",
    "from utils.utils import save_trained_model_weights\n",
    "from utils.dataset_utils import prepare_dataset\n",
    "from src import (\n",
    "    Trainer,\n",
    "    get_optimizer\n",
    ")\n",
    "from data.data_transforms import (\n",
    "    get_fundamental_transforms,\n",
    "    get_fundamental_normalization_transforms,\n",
    "    get_fundamental_augmentation_transforms,\n",
    "    get_all_transforms,\n",
    ")\n",
    "from utils.confusion_matrix import (\n",
    "    generate_confusion_data,\n",
    "    generate_confusion_matrix,\n",
    "    plot_confusion_matrix,\n",
    "    get_pred_images_for_target,\n",
    "    generate_and_plot_confusion_matrix,\n",
    "    generate_and_plot_accuracy_table,\n",
    ")\n",
    "\n",
    "# Global variables\n",
    "raw_data_path = \"../data/raw/\"\n",
    "data_path = \"../data/processed/\"\n",
    "model_path = \"../src/models/\"\n",
    "results_path = \"../results/\"\n",
    "\n",
    "batch_size = 32\n",
    "num_classes = 3\n",
    "\n",
    "%load_ext autoreload\n",
    "%autoreload 2"
   ]
  },
  {
   "cell_type": "markdown",
   "metadata": {},
   "source": [
    "### Donwload the dataset, preprocess it, and compute statistics"
   ]
  },
  {
   "cell_type": "code",
   "execution_count": 3,
   "metadata": {},
   "outputs": [
    {
     "name": "stdout",
     "output_type": "stream",
     "text": [
      "[Info] Kaggle API token found.\n",
      "[INFO] Raw data already exists. Skipping Kaggle download.\n",
      "[INFO] Processed data directory already exists. Skipping conversion.\n",
      "[INFO] Loading cached dataset mean and std...\n"
     ]
    }
   ],
   "source": [
    "dataset_mean, dataset_std = prepare_dataset(\n",
    "    raw_data_path=raw_data_path,\n",
    "    pickle_path= os.path.join(raw_data_path, \"brain_tumor_mri/new_dataset/training_data.pickle\"),\n",
    "    processed_data_path=data_path,\n",
    ")"
   ]
  },
  {
   "cell_type": "markdown",
   "metadata": {},
   "source": [
    "# Step 1: Test 3D Convolutional Nerual Network"
   ]
  },
  {
   "cell_type": "code",
   "execution_count": 6,
   "metadata": {},
   "outputs": [],
   "source": [
    "inp_size = (512,512) # TODO: Double check this"
   ]
  },
  {
   "cell_type": "code",
   "execution_count": 9,
   "metadata": {},
   "outputs": [],
   "source": [
    "model_cnn = CNN_3D(inp_size, num_classes=num_classes)\n",
    "\n",
    "cnn_optimizer_config = {\"optimizer_type\": \"adam\", \"lr\": 1e-3, \"weight_decay\": 1e-8} # Tune these\n",
    "cnn_optimizer = get_optimizer(model_cnn, cnn_optimizer_config)\n",
    "\n",
    "cnn_trainer = Trainer(\n",
    "    data_dir=data_path,\n",
    "    model=model_cnn,\n",
    "    optimizer=cnn_optimizer,\n",
    "    model_dir=os.path.join(model_path, \"CNN_3D\"),\n",
    "    train_data_transforms=get_all_transforms(inp_size, [dataset_mean], [dataset_std]),\n",
    "    val_data_transforms=get_fundamental_normalization_transforms(\n",
    "        inp_size, [dataset_mean], [dataset_std]\n",
    "    ),\n",
    "    batch_size=batch_size,\n",
    "    load_from_disk=False,\n",
    "    cuda=torch.cuda.is_available(),\n",
    ")"
   ]
  },
  {
   "cell_type": "code",
   "execution_count": 11,
   "metadata": {},
   "outputs": [
    {
     "name": "stdout",
     "output_type": "stream",
     "text": [
      "Minibatch:1 Train Loss:0.0340 Val Loss: 0.0340 Train Accuracy: 0.3750 Validation Accuracy: 0.3750\n",
      "Minibatch:2 Train Loss:0.0342 Val Loss: 0.0342 Train Accuracy: 0.3438 Validation Accuracy: 0.3438\n",
      "Minibatch:3 Train Loss:0.0336 Val Loss: 0.0336 Train Accuracy: 0.5000 Validation Accuracy: 0.5000\n",
      "Minibatch:4 Train Loss:0.0338 Val Loss: 0.0338 Train Accuracy: 0.4375 Validation Accuracy: 0.4375\n",
      "Minibatch:5 Train Loss:0.0340 Val Loss: 0.0340 Train Accuracy: 0.2812 Validation Accuracy: 0.2812\n",
      "Minibatch:6 Train Loss:0.0338 Val Loss: 0.0338 Train Accuracy: 0.4062 Validation Accuracy: 0.4062\n",
      "Minibatch:7 Train Loss:0.0342 Val Loss: 0.0342 Train Accuracy: 0.3438 Validation Accuracy: 0.3438\n",
      "Minibatch:8 Train Loss:0.0332 Val Loss: 0.0332 Train Accuracy: 0.5312 Validation Accuracy: 0.5312\n",
      "Minibatch:9 Train Loss:0.0326 Val Loss: 0.0326 Train Accuracy: 0.6250 Validation Accuracy: 0.6250\n",
      "Minibatch:10 Train Loss:0.0336 Val Loss: 0.0336 Train Accuracy: 0.5625 Validation Accuracy: 0.5625\n",
      "Minibatch:11 Train Loss:0.0330 Val Loss: 0.0330 Train Accuracy: 0.6250 Validation Accuracy: 0.6250\n",
      "Minibatch:12 Train Loss:0.0331 Val Loss: 0.0331 Train Accuracy: 0.5312 Validation Accuracy: 0.5312\n",
      "Minibatch:13 Train Loss:0.0346 Val Loss: 0.0346 Train Accuracy: 0.2812 Validation Accuracy: 0.2812\n",
      "Minibatch:14 Train Loss:0.0332 Val Loss: 0.0332 Train Accuracy: 0.5625 Validation Accuracy: 0.5625\n",
      "Minibatch:15 Train Loss:0.0337 Val Loss: 0.0337 Train Accuracy: 0.4375 Validation Accuracy: 0.4375\n",
      "Minibatch:16 Train Loss:0.0329 Val Loss: 0.0329 Train Accuracy: 0.5625 Validation Accuracy: 0.5625\n",
      "Minibatch:17 Train Loss:0.0335 Val Loss: 0.0335 Train Accuracy: 0.4375 Validation Accuracy: 0.4375\n",
      "Minibatch:18 Train Loss:0.0338 Val Loss: 0.0338 Train Accuracy: 0.4062 Validation Accuracy: 0.4062\n",
      "Minibatch:19 Train Loss:0.0328 Val Loss: 0.0328 Train Accuracy: 0.5625 Validation Accuracy: 0.5625\n",
      "Minibatch:20 Train Loss:0.0344 Val Loss: 0.0344 Train Accuracy: 0.3438 Validation Accuracy: 0.3438\n",
      "Minibatch:21 Train Loss:0.0334 Val Loss: 0.0334 Train Accuracy: 0.5312 Validation Accuracy: 0.5312\n",
      "Minibatch:22 Train Loss:0.0339 Val Loss: 0.0339 Train Accuracy: 0.3750 Validation Accuracy: 0.3750\n",
      "Minibatch:23 Train Loss:0.0323 Val Loss: 0.0323 Train Accuracy: 0.6250 Validation Accuracy: 0.6250\n",
      "Minibatch:24 Train Loss:0.0332 Val Loss: 0.0332 Train Accuracy: 0.5625 Validation Accuracy: 0.5625\n",
      "Minibatch:25 Train Loss:0.0352 Val Loss: 0.0352 Train Accuracy: 0.2500 Validation Accuracy: 0.2500\n",
      "Minibatch:26 Train Loss:0.0336 Val Loss: 0.0336 Train Accuracy: 0.4688 Validation Accuracy: 0.4688\n",
      "Minibatch:27 Train Loss:0.0332 Val Loss: 0.0332 Train Accuracy: 0.5000 Validation Accuracy: 0.5000\n",
      "Minibatch:28 Train Loss:0.0336 Val Loss: 0.0336 Train Accuracy: 0.4062 Validation Accuracy: 0.4062\n",
      "Minibatch:29 Train Loss:0.0328 Val Loss: 0.0328 Train Accuracy: 0.6562 Validation Accuracy: 0.6562\n",
      "Minibatch:30 Train Loss:0.0337 Val Loss: 0.0337 Train Accuracy: 0.4688 Validation Accuracy: 0.4688\n",
      "Minibatch:31 Train Loss:0.0321 Val Loss: 0.0321 Train Accuracy: 0.6875 Validation Accuracy: 0.6875\n",
      "Minibatch:32 Train Loss:0.0330 Val Loss: 0.0330 Train Accuracy: 0.5625 Validation Accuracy: 0.5625\n",
      "Minibatch:33 Train Loss:0.0336 Val Loss: 0.0336 Train Accuracy: 0.4375 Validation Accuracy: 0.4375\n",
      "Minibatch:34 Train Loss:0.0331 Val Loss: 0.0331 Train Accuracy: 0.5000 Validation Accuracy: 0.5000\n",
      "Minibatch:35 Train Loss:0.0334 Val Loss: 0.0334 Train Accuracy: 0.4375 Validation Accuracy: 0.4375\n",
      "Minibatch:36 Train Loss:0.0339 Val Loss: 0.0339 Train Accuracy: 0.4375 Validation Accuracy: 0.4375\n",
      "Minibatch:37 Train Loss:0.0338 Val Loss: 0.0338 Train Accuracy: 0.4688 Validation Accuracy: 0.4688\n",
      "Minibatch:38 Train Loss:0.0340 Val Loss: 0.0340 Train Accuracy: 0.4062 Validation Accuracy: 0.4062\n",
      "Minibatch:39 Train Loss:0.0337 Val Loss: 0.0337 Train Accuracy: 0.4062 Validation Accuracy: 0.4062\n",
      "Minibatch:40 Train Loss:0.0325 Val Loss: 0.0325 Train Accuracy: 0.6250 Validation Accuracy: 0.6250\n",
      "Minibatch:41 Train Loss:0.0328 Val Loss: 0.0328 Train Accuracy: 0.5000 Validation Accuracy: 0.5000\n",
      "Minibatch:42 Train Loss:0.0334 Val Loss: 0.0334 Train Accuracy: 0.4062 Validation Accuracy: 0.4062\n",
      "Minibatch:43 Train Loss:0.0332 Val Loss: 0.0332 Train Accuracy: 0.5000 Validation Accuracy: 0.5000\n",
      "Minibatch:44 Train Loss:0.0335 Val Loss: 0.0335 Train Accuracy: 0.4688 Validation Accuracy: 0.4688\n",
      "Minibatch:45 Train Loss:0.0346 Val Loss: 0.0346 Train Accuracy: 0.3438 Validation Accuracy: 0.3438\n",
      "Minibatch:46 Train Loss:0.0339 Val Loss: 0.0339 Train Accuracy: 0.4375 Validation Accuracy: 0.4375\n",
      "Minibatch:47 Train Loss:0.0346 Val Loss: 0.0346 Train Accuracy: 0.3750 Validation Accuracy: 0.3750\n",
      "Minibatch:48 Train Loss:0.0343 Val Loss: 0.0343 Train Accuracy: 0.3438 Validation Accuracy: 0.3438\n",
      "Minibatch:49 Train Loss:0.0335 Val Loss: 0.0335 Train Accuracy: 0.4688 Validation Accuracy: 0.4688\n",
      "Minibatch:50 Train Loss:0.0336 Val Loss: 0.0336 Train Accuracy: 0.4375 Validation Accuracy: 0.4375\n",
      "Minibatch:51 Train Loss:0.0323 Val Loss: 0.0323 Train Accuracy: 0.5938 Validation Accuracy: 0.5938\n",
      "Minibatch:52 Train Loss:0.0342 Val Loss: 0.0342 Train Accuracy: 0.3438 Validation Accuracy: 0.3438\n",
      "Minibatch:53 Train Loss:0.0336 Val Loss: 0.0336 Train Accuracy: 0.4688 Validation Accuracy: 0.4688\n",
      "Minibatch:54 Train Loss:0.0332 Val Loss: 0.0332 Train Accuracy: 0.4688 Validation Accuracy: 0.4688\n",
      "Minibatch:55 Train Loss:0.0342 Val Loss: 0.0342 Train Accuracy: 0.4062 Validation Accuracy: 0.4062\n",
      "Minibatch:56 Train Loss:0.0320 Val Loss: 0.0320 Train Accuracy: 0.6250 Validation Accuracy: 0.6250\n",
      "Minibatch:57 Train Loss:0.0343 Val Loss: 0.0343 Train Accuracy: 0.3438 Validation Accuracy: 0.3438\n",
      "Minibatch:58 Train Loss:0.0334 Val Loss: 0.0334 Train Accuracy: 0.4688 Validation Accuracy: 0.4688\n",
      "Minibatch:59 Train Loss:0.0328 Val Loss: 0.0328 Train Accuracy: 0.4688 Validation Accuracy: 0.4688\n",
      "Minibatch:60 Train Loss:0.0336 Val Loss: 0.0336 Train Accuracy: 0.4688 Validation Accuracy: 0.4688\n",
      "Minibatch:61 Train Loss:0.0338 Val Loss: 0.0338 Train Accuracy: 0.4375 Validation Accuracy: 0.4375\n",
      "Minibatch:62 Train Loss:0.0334 Val Loss: 0.0334 Train Accuracy: 0.4688 Validation Accuracy: 0.4688\n",
      "Minibatch:63 Train Loss:0.0356 Val Loss: 0.0356 Train Accuracy: 0.3125 Validation Accuracy: 0.3125\n",
      "Minibatch:64 Train Loss:0.0312 Val Loss: 0.0312 Train Accuracy: 0.6562 Validation Accuracy: 0.6562\n",
      "Minibatch:65 Train Loss:0.0333 Val Loss: 0.0333 Train Accuracy: 0.4375 Validation Accuracy: 0.4375\n",
      "Minibatch:66 Train Loss:0.0346 Val Loss: 0.0346 Train Accuracy: 0.2812 Validation Accuracy: 0.2812\n",
      "Minibatch:67 Train Loss:0.0332 Val Loss: 0.0332 Train Accuracy: 0.5000 Validation Accuracy: 0.5000\n",
      "Minibatch:68 Train Loss:0.0322 Val Loss: 0.0322 Train Accuracy: 0.5625 Validation Accuracy: 0.5625\n",
      "Minibatch:69 Train Loss:0.0332 Val Loss: 0.0332 Train Accuracy: 0.4688 Validation Accuracy: 0.4688\n",
      "Minibatch:70 Train Loss:0.0324 Val Loss: 0.0324 Train Accuracy: 0.5000 Validation Accuracy: 0.5000\n",
      "Minibatch:71 Train Loss:0.0319 Val Loss: 0.0319 Train Accuracy: 0.5938 Validation Accuracy: 0.5938\n",
      "Minibatch:72 Train Loss:0.0335 Val Loss: 0.0335 Train Accuracy: 0.4688 Validation Accuracy: 0.4688\n",
      "Minibatch:73 Train Loss:0.0344 Val Loss: 0.0344 Train Accuracy: 0.4062 Validation Accuracy: 0.4062\n",
      "Minibatch:74 Train Loss:0.0331 Val Loss: 0.0331 Train Accuracy: 0.4375 Validation Accuracy: 0.4375\n",
      "Minibatch:75 Train Loss:0.0319 Val Loss: 0.0319 Train Accuracy: 0.6250 Validation Accuracy: 0.6250\n",
      "Minibatch:76 Train Loss:0.0348 Val Loss: 0.0348 Train Accuracy: 0.3125 Validation Accuracy: 0.3125\n",
      "Minibatch:77 Train Loss:0.0549 Val Loss: 0.0549 Train Accuracy: 0.4737 Validation Accuracy: 0.4737\n",
      "Epoch:1 Train Loss:0.0336 Val Loss: 0.0346 Train Accuracy: 0.4655 Validation Accuracy: 0.4649\n",
      "Minibatch:1 Train Loss:0.0316 Val Loss: 0.0316 Train Accuracy: 0.6250 Validation Accuracy: 0.6250\n",
      "Minibatch:2 Train Loss:0.0324 Val Loss: 0.0324 Train Accuracy: 0.5312 Validation Accuracy: 0.5312\n",
      "Minibatch:3 Train Loss:0.0339 Val Loss: 0.0339 Train Accuracy: 0.4062 Validation Accuracy: 0.4062\n",
      "Minibatch:4 Train Loss:0.0334 Val Loss: 0.0334 Train Accuracy: 0.5000 Validation Accuracy: 0.5000\n",
      "Minibatch:5 Train Loss:0.0325 Val Loss: 0.0325 Train Accuracy: 0.5312 Validation Accuracy: 0.5312\n",
      "Minibatch:6 Train Loss:0.0319 Val Loss: 0.0319 Train Accuracy: 0.5938 Validation Accuracy: 0.5938\n",
      "Minibatch:7 Train Loss:0.0323 Val Loss: 0.0323 Train Accuracy: 0.5625 Validation Accuracy: 0.5625\n",
      "Minibatch:8 Train Loss:0.0340 Val Loss: 0.0340 Train Accuracy: 0.3438 Validation Accuracy: 0.3438\n",
      "Minibatch:9 Train Loss:0.0340 Val Loss: 0.0340 Train Accuracy: 0.4062 Validation Accuracy: 0.4062\n",
      "Minibatch:10 Train Loss:0.0329 Val Loss: 0.0329 Train Accuracy: 0.5000 Validation Accuracy: 0.5000\n",
      "Minibatch:11 Train Loss:0.0330 Val Loss: 0.0330 Train Accuracy: 0.4688 Validation Accuracy: 0.4688\n",
      "Minibatch:12 Train Loss:0.0347 Val Loss: 0.0347 Train Accuracy: 0.3125 Validation Accuracy: 0.3125\n",
      "Minibatch:13 Train Loss:0.0344 Val Loss: 0.0344 Train Accuracy: 0.4375 Validation Accuracy: 0.4375\n",
      "Minibatch:14 Train Loss:0.0341 Val Loss: 0.0341 Train Accuracy: 0.4062 Validation Accuracy: 0.4062\n",
      "Minibatch:15 Train Loss:0.0305 Val Loss: 0.0305 Train Accuracy: 0.7500 Validation Accuracy: 0.7500\n",
      "Minibatch:16 Train Loss:0.0336 Val Loss: 0.0336 Train Accuracy: 0.4062 Validation Accuracy: 0.4062\n",
      "Minibatch:17 Train Loss:0.0325 Val Loss: 0.0325 Train Accuracy: 0.5000 Validation Accuracy: 0.5000\n",
      "Minibatch:18 Train Loss:0.0348 Val Loss: 0.0348 Train Accuracy: 0.2812 Validation Accuracy: 0.2812\n",
      "Minibatch:19 Train Loss:0.0334 Val Loss: 0.0334 Train Accuracy: 0.4375 Validation Accuracy: 0.4375\n",
      "Minibatch:20 Train Loss:0.0326 Val Loss: 0.0326 Train Accuracy: 0.5312 Validation Accuracy: 0.5312\n",
      "Minibatch:21 Train Loss:0.0330 Val Loss: 0.0330 Train Accuracy: 0.5000 Validation Accuracy: 0.5000\n",
      "Minibatch:22 Train Loss:0.0344 Val Loss: 0.0344 Train Accuracy: 0.3125 Validation Accuracy: 0.3125\n",
      "Minibatch:23 Train Loss:0.0339 Val Loss: 0.0339 Train Accuracy: 0.3750 Validation Accuracy: 0.3750\n",
      "Minibatch:24 Train Loss:0.0328 Val Loss: 0.0328 Train Accuracy: 0.5000 Validation Accuracy: 0.5000\n",
      "Minibatch:25 Train Loss:0.0325 Val Loss: 0.0325 Train Accuracy: 0.5312 Validation Accuracy: 0.5312\n",
      "Minibatch:26 Train Loss:0.0334 Val Loss: 0.0334 Train Accuracy: 0.4688 Validation Accuracy: 0.4688\n",
      "Minibatch:27 Train Loss:0.0331 Val Loss: 0.0331 Train Accuracy: 0.4688 Validation Accuracy: 0.4688\n",
      "Minibatch:28 Train Loss:0.0334 Val Loss: 0.0334 Train Accuracy: 0.4062 Validation Accuracy: 0.4062\n",
      "Minibatch:29 Train Loss:0.0351 Val Loss: 0.0351 Train Accuracy: 0.3125 Validation Accuracy: 0.3125\n",
      "Minibatch:30 Train Loss:0.0327 Val Loss: 0.0327 Train Accuracy: 0.4062 Validation Accuracy: 0.4062\n",
      "Minibatch:31 Train Loss:0.0349 Val Loss: 0.0349 Train Accuracy: 0.3438 Validation Accuracy: 0.3438\n",
      "Minibatch:32 Train Loss:0.0327 Val Loss: 0.0327 Train Accuracy: 0.4688 Validation Accuracy: 0.4688\n",
      "Minibatch:33 Train Loss:0.0341 Val Loss: 0.0341 Train Accuracy: 0.3750 Validation Accuracy: 0.3750\n",
      "Minibatch:34 Train Loss:0.0342 Val Loss: 0.0342 Train Accuracy: 0.4375 Validation Accuracy: 0.4375\n",
      "Minibatch:35 Train Loss:0.0333 Val Loss: 0.0333 Train Accuracy: 0.4375 Validation Accuracy: 0.4375\n",
      "Minibatch:36 Train Loss:0.0339 Val Loss: 0.0339 Train Accuracy: 0.4375 Validation Accuracy: 0.4375\n",
      "Minibatch:37 Train Loss:0.0332 Val Loss: 0.0332 Train Accuracy: 0.4688 Validation Accuracy: 0.4688\n",
      "Minibatch:38 Train Loss:0.0332 Val Loss: 0.0332 Train Accuracy: 0.4688 Validation Accuracy: 0.4688\n",
      "Minibatch:39 Train Loss:0.0343 Val Loss: 0.0343 Train Accuracy: 0.3438 Validation Accuracy: 0.3438\n",
      "Minibatch:40 Train Loss:0.0331 Val Loss: 0.0331 Train Accuracy: 0.4375 Validation Accuracy: 0.4375\n",
      "Minibatch:41 Train Loss:0.0342 Val Loss: 0.0342 Train Accuracy: 0.4062 Validation Accuracy: 0.4062\n",
      "Minibatch:42 Train Loss:0.0356 Val Loss: 0.0356 Train Accuracy: 0.2812 Validation Accuracy: 0.2812\n",
      "Minibatch:43 Train Loss:0.0327 Val Loss: 0.0327 Train Accuracy: 0.4688 Validation Accuracy: 0.4688\n",
      "Minibatch:44 Train Loss:0.0318 Val Loss: 0.0318 Train Accuracy: 0.5938 Validation Accuracy: 0.5938\n",
      "Minibatch:45 Train Loss:0.0330 Val Loss: 0.0330 Train Accuracy: 0.5000 Validation Accuracy: 0.5000\n",
      "Minibatch:46 Train Loss:0.0326 Val Loss: 0.0326 Train Accuracy: 0.5000 Validation Accuracy: 0.5000\n",
      "Minibatch:47 Train Loss:0.0319 Val Loss: 0.0319 Train Accuracy: 0.5312 Validation Accuracy: 0.5312\n",
      "Minibatch:48 Train Loss:0.0332 Val Loss: 0.0332 Train Accuracy: 0.5000 Validation Accuracy: 0.5000\n",
      "Minibatch:49 Train Loss:0.0345 Val Loss: 0.0345 Train Accuracy: 0.3438 Validation Accuracy: 0.3438\n",
      "Minibatch:50 Train Loss:0.0323 Val Loss: 0.0323 Train Accuracy: 0.5312 Validation Accuracy: 0.5312\n",
      "Minibatch:51 Train Loss:0.0309 Val Loss: 0.0309 Train Accuracy: 0.5625 Validation Accuracy: 0.5625\n",
      "Minibatch:52 Train Loss:0.0339 Val Loss: 0.0339 Train Accuracy: 0.3750 Validation Accuracy: 0.3750\n",
      "Minibatch:53 Train Loss:0.0327 Val Loss: 0.0327 Train Accuracy: 0.5000 Validation Accuracy: 0.5000\n",
      "Minibatch:54 Train Loss:0.0308 Val Loss: 0.0308 Train Accuracy: 0.6250 Validation Accuracy: 0.6250\n",
      "Minibatch:55 Train Loss:0.0339 Val Loss: 0.0339 Train Accuracy: 0.3750 Validation Accuracy: 0.3750\n",
      "Minibatch:56 Train Loss:0.0340 Val Loss: 0.0340 Train Accuracy: 0.4062 Validation Accuracy: 0.4062\n",
      "Minibatch:57 Train Loss:0.0324 Val Loss: 0.0324 Train Accuracy: 0.5312 Validation Accuracy: 0.5312\n",
      "Minibatch:58 Train Loss:0.0327 Val Loss: 0.0327 Train Accuracy: 0.5000 Validation Accuracy: 0.5000\n",
      "Minibatch:59 Train Loss:0.0323 Val Loss: 0.0323 Train Accuracy: 0.5625 Validation Accuracy: 0.5625\n",
      "Minibatch:60 Train Loss:0.0310 Val Loss: 0.0310 Train Accuracy: 0.5938 Validation Accuracy: 0.5938\n",
      "Minibatch:61 Train Loss:0.0328 Val Loss: 0.0328 Train Accuracy: 0.5312 Validation Accuracy: 0.5312\n",
      "Minibatch:62 Train Loss:0.0336 Val Loss: 0.0336 Train Accuracy: 0.4688 Validation Accuracy: 0.4688\n",
      "Minibatch:63 Train Loss:0.0330 Val Loss: 0.0330 Train Accuracy: 0.5312 Validation Accuracy: 0.5312\n",
      "Minibatch:64 Train Loss:0.0348 Val Loss: 0.0348 Train Accuracy: 0.3438 Validation Accuracy: 0.3438\n",
      "Minibatch:65 Train Loss:0.0342 Val Loss: 0.0342 Train Accuracy: 0.4062 Validation Accuracy: 0.4062\n",
      "Minibatch:66 Train Loss:0.0326 Val Loss: 0.0326 Train Accuracy: 0.4688 Validation Accuracy: 0.4688\n",
      "Minibatch:67 Train Loss:0.0352 Val Loss: 0.0352 Train Accuracy: 0.3438 Validation Accuracy: 0.3438\n",
      "Minibatch:68 Train Loss:0.0342 Val Loss: 0.0342 Train Accuracy: 0.4062 Validation Accuracy: 0.4062\n",
      "Minibatch:69 Train Loss:0.0349 Val Loss: 0.0349 Train Accuracy: 0.3750 Validation Accuracy: 0.3750\n",
      "Minibatch:70 Train Loss:0.0300 Val Loss: 0.0300 Train Accuracy: 0.6875 Validation Accuracy: 0.6875\n",
      "Minibatch:71 Train Loss:0.0329 Val Loss: 0.0329 Train Accuracy: 0.4375 Validation Accuracy: 0.4375\n",
      "Minibatch:72 Train Loss:0.0315 Val Loss: 0.0315 Train Accuracy: 0.5938 Validation Accuracy: 0.5938\n",
      "Minibatch:73 Train Loss:0.0327 Val Loss: 0.0327 Train Accuracy: 0.5000 Validation Accuracy: 0.5000\n",
      "Minibatch:74 Train Loss:0.0316 Val Loss: 0.0316 Train Accuracy: 0.6250 Validation Accuracy: 0.6250\n",
      "Minibatch:75 Train Loss:0.0329 Val Loss: 0.0329 Train Accuracy: 0.5000 Validation Accuracy: 0.5000\n",
      "Minibatch:76 Train Loss:0.0328 Val Loss: 0.0328 Train Accuracy: 0.4688 Validation Accuracy: 0.4688\n",
      "Minibatch:77 Train Loss:0.0563 Val Loss: 0.0563 Train Accuracy: 0.4211 Validation Accuracy: 0.4211\n",
      "Epoch:2 Train Loss:0.0333 Val Loss: 0.0348 Train Accuracy: 0.4655 Validation Accuracy: 0.4649\n",
      "Minibatch:1 Train Loss:0.0339 Val Loss: 0.0339 Train Accuracy: 0.3750 Validation Accuracy: 0.3750\n",
      "Minibatch:2 Train Loss:0.0341 Val Loss: 0.0341 Train Accuracy: 0.4375 Validation Accuracy: 0.4375\n",
      "Minibatch:3 Train Loss:0.0339 Val Loss: 0.0339 Train Accuracy: 0.3750 Validation Accuracy: 0.3750\n",
      "Minibatch:4 Train Loss:0.0326 Val Loss: 0.0326 Train Accuracy: 0.5000 Validation Accuracy: 0.5000\n",
      "Minibatch:5 Train Loss:0.0329 Val Loss: 0.0329 Train Accuracy: 0.5312 Validation Accuracy: 0.5312\n",
      "Minibatch:6 Train Loss:0.0337 Val Loss: 0.0337 Train Accuracy: 0.4375 Validation Accuracy: 0.4375\n",
      "Minibatch:7 Train Loss:0.0332 Val Loss: 0.0332 Train Accuracy: 0.4688 Validation Accuracy: 0.4688\n",
      "Minibatch:8 Train Loss:0.0329 Val Loss: 0.0329 Train Accuracy: 0.4688 Validation Accuracy: 0.4688\n",
      "Minibatch:9 Train Loss:0.0338 Val Loss: 0.0338 Train Accuracy: 0.4062 Validation Accuracy: 0.4062\n",
      "Minibatch:10 Train Loss:0.0348 Val Loss: 0.0348 Train Accuracy: 0.3750 Validation Accuracy: 0.3750\n",
      "Minibatch:11 Train Loss:0.0335 Val Loss: 0.0335 Train Accuracy: 0.4375 Validation Accuracy: 0.4375\n",
      "Minibatch:12 Train Loss:0.0328 Val Loss: 0.0328 Train Accuracy: 0.5000 Validation Accuracy: 0.5000\n",
      "Minibatch:13 Train Loss:0.0319 Val Loss: 0.0319 Train Accuracy: 0.5625 Validation Accuracy: 0.5625\n",
      "Minibatch:14 Train Loss:0.0321 Val Loss: 0.0321 Train Accuracy: 0.5312 Validation Accuracy: 0.5312\n",
      "Minibatch:15 Train Loss:0.0331 Val Loss: 0.0331 Train Accuracy: 0.4375 Validation Accuracy: 0.4375\n",
      "Minibatch:16 Train Loss:0.0325 Val Loss: 0.0325 Train Accuracy: 0.4688 Validation Accuracy: 0.4688\n",
      "Minibatch:17 Train Loss:0.0315 Val Loss: 0.0315 Train Accuracy: 0.5938 Validation Accuracy: 0.5938\n",
      "Minibatch:18 Train Loss:0.0347 Val Loss: 0.0347 Train Accuracy: 0.3125 Validation Accuracy: 0.3125\n",
      "Minibatch:19 Train Loss:0.0367 Val Loss: 0.0367 Train Accuracy: 0.2812 Validation Accuracy: 0.2812\n",
      "Minibatch:20 Train Loss:0.0326 Val Loss: 0.0326 Train Accuracy: 0.5000 Validation Accuracy: 0.5000\n",
      "Minibatch:21 Train Loss:0.0319 Val Loss: 0.0319 Train Accuracy: 0.4688 Validation Accuracy: 0.4688\n",
      "Minibatch:22 Train Loss:0.0335 Val Loss: 0.0335 Train Accuracy: 0.4375 Validation Accuracy: 0.4375\n",
      "Minibatch:23 Train Loss:0.0340 Val Loss: 0.0340 Train Accuracy: 0.4062 Validation Accuracy: 0.4062\n",
      "Minibatch:24 Train Loss:0.0312 Val Loss: 0.0312 Train Accuracy: 0.6250 Validation Accuracy: 0.6250\n",
      "Minibatch:25 Train Loss:0.0331 Val Loss: 0.0331 Train Accuracy: 0.4375 Validation Accuracy: 0.4375\n",
      "Minibatch:26 Train Loss:0.0326 Val Loss: 0.0326 Train Accuracy: 0.5000 Validation Accuracy: 0.5000\n",
      "Minibatch:27 Train Loss:0.0291 Val Loss: 0.0291 Train Accuracy: 0.7500 Validation Accuracy: 0.7500\n",
      "Minibatch:28 Train Loss:0.0316 Val Loss: 0.0316 Train Accuracy: 0.5625 Validation Accuracy: 0.5625\n",
      "Minibatch:29 Train Loss:0.0324 Val Loss: 0.0324 Train Accuracy: 0.5312 Validation Accuracy: 0.5312\n",
      "Minibatch:30 Train Loss:0.0343 Val Loss: 0.0343 Train Accuracy: 0.4062 Validation Accuracy: 0.4062\n",
      "Minibatch:31 Train Loss:0.0322 Val Loss: 0.0322 Train Accuracy: 0.5312 Validation Accuracy: 0.5312\n",
      "Minibatch:32 Train Loss:0.0319 Val Loss: 0.0319 Train Accuracy: 0.5938 Validation Accuracy: 0.5938\n",
      "Minibatch:33 Train Loss:0.0338 Val Loss: 0.0338 Train Accuracy: 0.3750 Validation Accuracy: 0.3750\n",
      "Minibatch:34 Train Loss:0.0337 Val Loss: 0.0337 Train Accuracy: 0.4375 Validation Accuracy: 0.4375\n",
      "Minibatch:35 Train Loss:0.0320 Val Loss: 0.0320 Train Accuracy: 0.5312 Validation Accuracy: 0.5312\n",
      "Minibatch:36 Train Loss:0.0317 Val Loss: 0.0317 Train Accuracy: 0.5312 Validation Accuracy: 0.5312\n",
      "Minibatch:37 Train Loss:0.0322 Val Loss: 0.0322 Train Accuracy: 0.5312 Validation Accuracy: 0.5312\n",
      "Minibatch:38 Train Loss:0.0344 Val Loss: 0.0344 Train Accuracy: 0.3438 Validation Accuracy: 0.3438\n",
      "Minibatch:39 Train Loss:0.0327 Val Loss: 0.0327 Train Accuracy: 0.5000 Validation Accuracy: 0.5000\n",
      "Minibatch:40 Train Loss:0.0333 Val Loss: 0.0333 Train Accuracy: 0.4688 Validation Accuracy: 0.4688\n",
      "Minibatch:41 Train Loss:0.0315 Val Loss: 0.0315 Train Accuracy: 0.5312 Validation Accuracy: 0.5312\n",
      "Minibatch:42 Train Loss:0.0333 Val Loss: 0.0333 Train Accuracy: 0.4375 Validation Accuracy: 0.4375\n",
      "Minibatch:43 Train Loss:0.0357 Val Loss: 0.0357 Train Accuracy: 0.3438 Validation Accuracy: 0.3438\n",
      "Minibatch:44 Train Loss:0.0335 Val Loss: 0.0335 Train Accuracy: 0.4375 Validation Accuracy: 0.4375\n",
      "Minibatch:45 Train Loss:0.0339 Val Loss: 0.0339 Train Accuracy: 0.4375 Validation Accuracy: 0.4375\n",
      "Minibatch:46 Train Loss:0.0307 Val Loss: 0.0307 Train Accuracy: 0.5625 Validation Accuracy: 0.5625\n",
      "Minibatch:47 Train Loss:0.0327 Val Loss: 0.0327 Train Accuracy: 0.4688 Validation Accuracy: 0.4688\n",
      "Minibatch:48 Train Loss:0.0343 Val Loss: 0.0343 Train Accuracy: 0.3438 Validation Accuracy: 0.3438\n",
      "Minibatch:49 Train Loss:0.0333 Val Loss: 0.0333 Train Accuracy: 0.4375 Validation Accuracy: 0.4375\n",
      "Minibatch:50 Train Loss:0.0345 Val Loss: 0.0345 Train Accuracy: 0.3750 Validation Accuracy: 0.3750\n",
      "Minibatch:51 Train Loss:0.0331 Val Loss: 0.0331 Train Accuracy: 0.4688 Validation Accuracy: 0.4688\n",
      "Minibatch:52 Train Loss:0.0327 Val Loss: 0.0327 Train Accuracy: 0.5000 Validation Accuracy: 0.5000\n",
      "Minibatch:53 Train Loss:0.0363 Val Loss: 0.0363 Train Accuracy: 0.2812 Validation Accuracy: 0.2812\n",
      "Minibatch:54 Train Loss:0.0331 Val Loss: 0.0331 Train Accuracy: 0.4688 Validation Accuracy: 0.4688\n",
      "Minibatch:55 Train Loss:0.0336 Val Loss: 0.0336 Train Accuracy: 0.3750 Validation Accuracy: 0.3750\n",
      "Minibatch:56 Train Loss:0.0343 Val Loss: 0.0343 Train Accuracy: 0.4062 Validation Accuracy: 0.4062\n",
      "Minibatch:57 Train Loss:0.0319 Val Loss: 0.0319 Train Accuracy: 0.5312 Validation Accuracy: 0.5312\n",
      "Minibatch:58 Train Loss:0.0307 Val Loss: 0.0307 Train Accuracy: 0.5938 Validation Accuracy: 0.5938\n",
      "Minibatch:59 Train Loss:0.0327 Val Loss: 0.0327 Train Accuracy: 0.5000 Validation Accuracy: 0.5000\n",
      "Minibatch:60 Train Loss:0.0303 Val Loss: 0.0303 Train Accuracy: 0.6250 Validation Accuracy: 0.6250\n",
      "Minibatch:61 Train Loss:0.0331 Val Loss: 0.0331 Train Accuracy: 0.4688 Validation Accuracy: 0.4688\n",
      "Minibatch:62 Train Loss:0.0329 Val Loss: 0.0329 Train Accuracy: 0.5000 Validation Accuracy: 0.5000\n",
      "Minibatch:63 Train Loss:0.0325 Val Loss: 0.0325 Train Accuracy: 0.5312 Validation Accuracy: 0.5312\n",
      "Minibatch:64 Train Loss:0.0337 Val Loss: 0.0337 Train Accuracy: 0.4062 Validation Accuracy: 0.4062\n",
      "Minibatch:65 Train Loss:0.0343 Val Loss: 0.0343 Train Accuracy: 0.4062 Validation Accuracy: 0.4062\n",
      "Minibatch:66 Train Loss:0.0331 Val Loss: 0.0331 Train Accuracy: 0.4688 Validation Accuracy: 0.4688\n",
      "Minibatch:67 Train Loss:0.0335 Val Loss: 0.0335 Train Accuracy: 0.4375 Validation Accuracy: 0.4375\n",
      "Minibatch:68 Train Loss:0.0321 Val Loss: 0.0321 Train Accuracy: 0.5312 Validation Accuracy: 0.5312\n",
      "Minibatch:69 Train Loss:0.0306 Val Loss: 0.0306 Train Accuracy: 0.5625 Validation Accuracy: 0.5625\n",
      "Minibatch:70 Train Loss:0.0327 Val Loss: 0.0327 Train Accuracy: 0.4688 Validation Accuracy: 0.4688\n",
      "Minibatch:71 Train Loss:0.0341 Val Loss: 0.0341 Train Accuracy: 0.4062 Validation Accuracy: 0.4062\n",
      "Minibatch:72 Train Loss:0.0336 Val Loss: 0.0336 Train Accuracy: 0.4688 Validation Accuracy: 0.4688\n",
      "Minibatch:73 Train Loss:0.0343 Val Loss: 0.0343 Train Accuracy: 0.3438 Validation Accuracy: 0.3438\n",
      "Minibatch:74 Train Loss:0.0320 Val Loss: 0.0320 Train Accuracy: 0.4688 Validation Accuracy: 0.4688\n",
      "Minibatch:75 Train Loss:0.0335 Val Loss: 0.0335 Train Accuracy: 0.4375 Validation Accuracy: 0.4375\n",
      "Minibatch:76 Train Loss:0.0316 Val Loss: 0.0316 Train Accuracy: 0.5000 Validation Accuracy: 0.5000\n",
      "Minibatch:77 Train Loss:0.0617 Val Loss: 0.0617 Train Accuracy: 0.2632 Validation Accuracy: 0.2632\n",
      "Epoch:3 Train Loss:0.0332 Val Loss: 0.0345 Train Accuracy: 0.4655 Validation Accuracy: 0.4649\n",
      "Minibatch:1 Train Loss:0.0323 Val Loss: 0.0323 Train Accuracy: 0.5000 Validation Accuracy: 0.5000\n",
      "Minibatch:2 Train Loss:0.0343 Val Loss: 0.0343 Train Accuracy: 0.3750 Validation Accuracy: 0.3750\n",
      "Minibatch:3 Train Loss:0.0329 Val Loss: 0.0329 Train Accuracy: 0.4688 Validation Accuracy: 0.4688\n",
      "Minibatch:4 Train Loss:0.0322 Val Loss: 0.0322 Train Accuracy: 0.4688 Validation Accuracy: 0.4688\n",
      "Minibatch:5 Train Loss:0.0333 Val Loss: 0.0333 Train Accuracy: 0.4375 Validation Accuracy: 0.4375\n",
      "Minibatch:6 Train Loss:0.0341 Val Loss: 0.0341 Train Accuracy: 0.3750 Validation Accuracy: 0.3750\n",
      "Minibatch:7 Train Loss:0.0336 Val Loss: 0.0336 Train Accuracy: 0.4688 Validation Accuracy: 0.4688\n",
      "Minibatch:8 Train Loss:0.0296 Val Loss: 0.0296 Train Accuracy: 0.6562 Validation Accuracy: 0.6562\n",
      "Minibatch:9 Train Loss:0.0315 Val Loss: 0.0315 Train Accuracy: 0.5625 Validation Accuracy: 0.5625\n",
      "Minibatch:10 Train Loss:0.0315 Val Loss: 0.0315 Train Accuracy: 0.5625 Validation Accuracy: 0.5625\n",
      "Minibatch:11 Train Loss:0.0322 Val Loss: 0.0322 Train Accuracy: 0.5000 Validation Accuracy: 0.5000\n",
      "Minibatch:12 Train Loss:0.0339 Val Loss: 0.0339 Train Accuracy: 0.4062 Validation Accuracy: 0.4062\n",
      "Minibatch:13 Train Loss:0.0343 Val Loss: 0.0343 Train Accuracy: 0.4375 Validation Accuracy: 0.4375\n",
      "Minibatch:14 Train Loss:0.0320 Val Loss: 0.0320 Train Accuracy: 0.5000 Validation Accuracy: 0.5000\n",
      "Minibatch:15 Train Loss:0.0318 Val Loss: 0.0318 Train Accuracy: 0.5000 Validation Accuracy: 0.5000\n",
      "Minibatch:16 Train Loss:0.0335 Val Loss: 0.0335 Train Accuracy: 0.4375 Validation Accuracy: 0.4375\n",
      "Minibatch:17 Train Loss:0.0317 Val Loss: 0.0317 Train Accuracy: 0.5625 Validation Accuracy: 0.5625\n",
      "Minibatch:18 Train Loss:0.0339 Val Loss: 0.0339 Train Accuracy: 0.4688 Validation Accuracy: 0.4688\n",
      "Minibatch:19 Train Loss:0.0314 Val Loss: 0.0314 Train Accuracy: 0.5625 Validation Accuracy: 0.5625\n",
      "Minibatch:20 Train Loss:0.0326 Val Loss: 0.0326 Train Accuracy: 0.4688 Validation Accuracy: 0.4688\n",
      "Minibatch:21 Train Loss:0.0335 Val Loss: 0.0335 Train Accuracy: 0.4375 Validation Accuracy: 0.4375\n",
      "Minibatch:22 Train Loss:0.0335 Val Loss: 0.0335 Train Accuracy: 0.5000 Validation Accuracy: 0.5000\n",
      "Minibatch:23 Train Loss:0.0297 Val Loss: 0.0297 Train Accuracy: 0.6562 Validation Accuracy: 0.6562\n",
      "Minibatch:24 Train Loss:0.0334 Val Loss: 0.0334 Train Accuracy: 0.4688 Validation Accuracy: 0.4688\n",
      "Minibatch:25 Train Loss:0.0336 Val Loss: 0.0336 Train Accuracy: 0.3750 Validation Accuracy: 0.3750\n",
      "Minibatch:26 Train Loss:0.0358 Val Loss: 0.0358 Train Accuracy: 0.2812 Validation Accuracy: 0.2812\n",
      "Minibatch:27 Train Loss:0.0308 Val Loss: 0.0308 Train Accuracy: 0.5938 Validation Accuracy: 0.5938\n",
      "Minibatch:28 Train Loss:0.0339 Val Loss: 0.0339 Train Accuracy: 0.4688 Validation Accuracy: 0.4688\n",
      "Minibatch:29 Train Loss:0.0334 Val Loss: 0.0334 Train Accuracy: 0.4688 Validation Accuracy: 0.4688\n",
      "Minibatch:30 Train Loss:0.0314 Val Loss: 0.0314 Train Accuracy: 0.5625 Validation Accuracy: 0.5625\n",
      "Minibatch:31 Train Loss:0.0322 Val Loss: 0.0322 Train Accuracy: 0.5000 Validation Accuracy: 0.5000\n",
      "Minibatch:32 Train Loss:0.0312 Val Loss: 0.0312 Train Accuracy: 0.5938 Validation Accuracy: 0.5938\n",
      "Minibatch:33 Train Loss:0.0311 Val Loss: 0.0311 Train Accuracy: 0.6250 Validation Accuracy: 0.6250\n",
      "Minibatch:34 Train Loss:0.0323 Val Loss: 0.0323 Train Accuracy: 0.5312 Validation Accuracy: 0.5312\n",
      "Minibatch:35 Train Loss:0.0325 Val Loss: 0.0325 Train Accuracy: 0.5312 Validation Accuracy: 0.5312\n",
      "Minibatch:36 Train Loss:0.0339 Val Loss: 0.0339 Train Accuracy: 0.3750 Validation Accuracy: 0.3750\n",
      "Minibatch:37 Train Loss:0.0333 Val Loss: 0.0333 Train Accuracy: 0.4375 Validation Accuracy: 0.4375\n",
      "Minibatch:38 Train Loss:0.0346 Val Loss: 0.0346 Train Accuracy: 0.3750 Validation Accuracy: 0.3750\n",
      "Minibatch:39 Train Loss:0.0318 Val Loss: 0.0318 Train Accuracy: 0.5625 Validation Accuracy: 0.5625\n",
      "Minibatch:40 Train Loss:0.0324 Val Loss: 0.0324 Train Accuracy: 0.5000 Validation Accuracy: 0.5000\n",
      "Minibatch:41 Train Loss:0.0311 Val Loss: 0.0311 Train Accuracy: 0.5938 Validation Accuracy: 0.5938\n",
      "Minibatch:42 Train Loss:0.0333 Val Loss: 0.0333 Train Accuracy: 0.4062 Validation Accuracy: 0.4062\n",
      "Minibatch:43 Train Loss:0.0333 Val Loss: 0.0333 Train Accuracy: 0.4062 Validation Accuracy: 0.4062\n",
      "Minibatch:44 Train Loss:0.0309 Val Loss: 0.0309 Train Accuracy: 0.5938 Validation Accuracy: 0.5938\n",
      "Minibatch:45 Train Loss:0.0311 Val Loss: 0.0311 Train Accuracy: 0.5625 Validation Accuracy: 0.5625\n",
      "Minibatch:46 Train Loss:0.0327 Val Loss: 0.0327 Train Accuracy: 0.5000 Validation Accuracy: 0.5000\n",
      "Minibatch:47 Train Loss:0.0346 Val Loss: 0.0346 Train Accuracy: 0.3438 Validation Accuracy: 0.3438\n",
      "Minibatch:48 Train Loss:0.0322 Val Loss: 0.0322 Train Accuracy: 0.5000 Validation Accuracy: 0.5000\n",
      "Minibatch:49 Train Loss:0.0331 Val Loss: 0.0331 Train Accuracy: 0.4375 Validation Accuracy: 0.4375\n",
      "Minibatch:50 Train Loss:0.0346 Val Loss: 0.0346 Train Accuracy: 0.3438 Validation Accuracy: 0.3438\n",
      "Minibatch:51 Train Loss:0.0320 Val Loss: 0.0320 Train Accuracy: 0.5312 Validation Accuracy: 0.5312\n",
      "Minibatch:52 Train Loss:0.0315 Val Loss: 0.0315 Train Accuracy: 0.5312 Validation Accuracy: 0.5312\n",
      "Minibatch:53 Train Loss:0.0343 Val Loss: 0.0343 Train Accuracy: 0.4062 Validation Accuracy: 0.4062\n",
      "Minibatch:54 Train Loss:0.0313 Val Loss: 0.0313 Train Accuracy: 0.5625 Validation Accuracy: 0.5625\n",
      "Minibatch:55 Train Loss:0.0345 Val Loss: 0.0345 Train Accuracy: 0.4062 Validation Accuracy: 0.4062\n",
      "Minibatch:56 Train Loss:0.0347 Val Loss: 0.0347 Train Accuracy: 0.3750 Validation Accuracy: 0.3750\n",
      "Minibatch:57 Train Loss:0.0345 Val Loss: 0.0345 Train Accuracy: 0.4062 Validation Accuracy: 0.4062\n",
      "Minibatch:58 Train Loss:0.0372 Val Loss: 0.0372 Train Accuracy: 0.2500 Validation Accuracy: 0.2500\n",
      "Minibatch:59 Train Loss:0.0328 Val Loss: 0.0328 Train Accuracy: 0.4688 Validation Accuracy: 0.4688\n",
      "Minibatch:60 Train Loss:0.0335 Val Loss: 0.0335 Train Accuracy: 0.3750 Validation Accuracy: 0.3750\n",
      "Minibatch:61 Train Loss:0.0342 Val Loss: 0.0342 Train Accuracy: 0.3750 Validation Accuracy: 0.3750\n",
      "Minibatch:62 Train Loss:0.0344 Val Loss: 0.0344 Train Accuracy: 0.3750 Validation Accuracy: 0.3750\n",
      "Minibatch:63 Train Loss:0.0334 Val Loss: 0.0334 Train Accuracy: 0.4688 Validation Accuracy: 0.4688\n",
      "Minibatch:64 Train Loss:0.0311 Val Loss: 0.0311 Train Accuracy: 0.5938 Validation Accuracy: 0.5938\n",
      "Minibatch:65 Train Loss:0.0346 Val Loss: 0.0346 Train Accuracy: 0.3438 Validation Accuracy: 0.3438\n",
      "Minibatch:66 Train Loss:0.0336 Val Loss: 0.0336 Train Accuracy: 0.4688 Validation Accuracy: 0.4688\n",
      "Minibatch:67 Train Loss:0.0343 Val Loss: 0.0343 Train Accuracy: 0.4375 Validation Accuracy: 0.4375\n",
      "Minibatch:68 Train Loss:0.0352 Val Loss: 0.0352 Train Accuracy: 0.3125 Validation Accuracy: 0.3125\n",
      "Minibatch:69 Train Loss:0.0327 Val Loss: 0.0327 Train Accuracy: 0.5000 Validation Accuracy: 0.5000\n",
      "Minibatch:70 Train Loss:0.0367 Val Loss: 0.0367 Train Accuracy: 0.3125 Validation Accuracy: 0.3125\n",
      "Minibatch:71 Train Loss:0.0315 Val Loss: 0.0315 Train Accuracy: 0.5312 Validation Accuracy: 0.5312\n",
      "Minibatch:72 Train Loss:0.0355 Val Loss: 0.0355 Train Accuracy: 0.3438 Validation Accuracy: 0.3438\n",
      "Minibatch:73 Train Loss:0.0321 Val Loss: 0.0321 Train Accuracy: 0.4688 Validation Accuracy: 0.4688\n",
      "Minibatch:74 Train Loss:0.0333 Val Loss: 0.0333 Train Accuracy: 0.4375 Validation Accuracy: 0.4375\n",
      "Minibatch:75 Train Loss:0.0329 Val Loss: 0.0329 Train Accuracy: 0.4688 Validation Accuracy: 0.4688\n",
      "Minibatch:76 Train Loss:0.0335 Val Loss: 0.0335 Train Accuracy: 0.4375 Validation Accuracy: 0.4375\n",
      "Minibatch:77 Train Loss:0.0587 Val Loss: 0.0587 Train Accuracy: 0.3684 Validation Accuracy: 0.3684\n",
      "Epoch:4 Train Loss:0.0332 Val Loss: 0.0346 Train Accuracy: 0.4655 Validation Accuracy: 0.4649\n",
      "Minibatch:1 Train Loss:0.0328 Val Loss: 0.0328 Train Accuracy: 0.4375 Validation Accuracy: 0.4375\n",
      "Minibatch:2 Train Loss:0.0327 Val Loss: 0.0327 Train Accuracy: 0.5000 Validation Accuracy: 0.5000\n",
      "Minibatch:3 Train Loss:0.0337 Val Loss: 0.0337 Train Accuracy: 0.4375 Validation Accuracy: 0.4375\n",
      "Minibatch:4 Train Loss:0.0341 Val Loss: 0.0341 Train Accuracy: 0.3438 Validation Accuracy: 0.3438\n",
      "Minibatch:5 Train Loss:0.0286 Val Loss: 0.0286 Train Accuracy: 0.6875 Validation Accuracy: 0.6875\n",
      "Minibatch:6 Train Loss:0.0333 Val Loss: 0.0333 Train Accuracy: 0.4688 Validation Accuracy: 0.4688\n",
      "Minibatch:7 Train Loss:0.0347 Val Loss: 0.0347 Train Accuracy: 0.3750 Validation Accuracy: 0.3750\n",
      "Minibatch:8 Train Loss:0.0317 Val Loss: 0.0317 Train Accuracy: 0.5312 Validation Accuracy: 0.5312\n",
      "Minibatch:9 Train Loss:0.0321 Val Loss: 0.0321 Train Accuracy: 0.5000 Validation Accuracy: 0.5000\n",
      "Minibatch:10 Train Loss:0.0349 Val Loss: 0.0349 Train Accuracy: 0.3750 Validation Accuracy: 0.3750\n",
      "Minibatch:11 Train Loss:0.0351 Val Loss: 0.0351 Train Accuracy: 0.3438 Validation Accuracy: 0.3438\n",
      "Minibatch:12 Train Loss:0.0331 Val Loss: 0.0331 Train Accuracy: 0.4375 Validation Accuracy: 0.4375\n",
      "Minibatch:13 Train Loss:0.0333 Val Loss: 0.0333 Train Accuracy: 0.5000 Validation Accuracy: 0.5000\n",
      "Minibatch:14 Train Loss:0.0319 Val Loss: 0.0319 Train Accuracy: 0.4688 Validation Accuracy: 0.4688\n",
      "Minibatch:15 Train Loss:0.0348 Val Loss: 0.0348 Train Accuracy: 0.3125 Validation Accuracy: 0.3125\n",
      "Minibatch:16 Train Loss:0.0329 Val Loss: 0.0329 Train Accuracy: 0.4688 Validation Accuracy: 0.4688\n",
      "Minibatch:17 Train Loss:0.0318 Val Loss: 0.0318 Train Accuracy: 0.5000 Validation Accuracy: 0.5000\n",
      "Minibatch:18 Train Loss:0.0324 Val Loss: 0.0324 Train Accuracy: 0.3750 Validation Accuracy: 0.3750\n",
      "Minibatch:19 Train Loss:0.0328 Val Loss: 0.0328 Train Accuracy: 0.3438 Validation Accuracy: 0.3438\n",
      "Minibatch:20 Train Loss:0.0290 Val Loss: 0.0290 Train Accuracy: 0.5625 Validation Accuracy: 0.5625\n",
      "Minibatch:21 Train Loss:0.0291 Val Loss: 0.0291 Train Accuracy: 0.5938 Validation Accuracy: 0.5938\n",
      "Minibatch:22 Train Loss:0.0293 Val Loss: 0.0293 Train Accuracy: 0.5625 Validation Accuracy: 0.5625\n",
      "Minibatch:23 Train Loss:0.0221 Val Loss: 0.0221 Train Accuracy: 0.7500 Validation Accuracy: 0.7500\n",
      "Minibatch:24 Train Loss:0.0303 Val Loss: 0.0303 Train Accuracy: 0.5938 Validation Accuracy: 0.5938\n",
      "Minibatch:25 Train Loss:0.0211 Val Loss: 0.0211 Train Accuracy: 0.6875 Validation Accuracy: 0.6875\n",
      "Minibatch:26 Train Loss:0.0291 Val Loss: 0.0291 Train Accuracy: 0.6250 Validation Accuracy: 0.6250\n",
      "Minibatch:27 Train Loss:0.0194 Val Loss: 0.0194 Train Accuracy: 0.7500 Validation Accuracy: 0.7500\n",
      "Minibatch:28 Train Loss:0.0251 Val Loss: 0.0251 Train Accuracy: 0.6250 Validation Accuracy: 0.6250\n",
      "Minibatch:29 Train Loss:0.0246 Val Loss: 0.0246 Train Accuracy: 0.6875 Validation Accuracy: 0.6875\n",
      "Minibatch:30 Train Loss:0.0276 Val Loss: 0.0276 Train Accuracy: 0.6250 Validation Accuracy: 0.6250\n",
      "Minibatch:31 Train Loss:0.0220 Val Loss: 0.0220 Train Accuracy: 0.6875 Validation Accuracy: 0.6875\n",
      "Minibatch:32 Train Loss:0.0238 Val Loss: 0.0238 Train Accuracy: 0.6250 Validation Accuracy: 0.6250\n",
      "Minibatch:33 Train Loss:0.0263 Val Loss: 0.0263 Train Accuracy: 0.6562 Validation Accuracy: 0.6562\n",
      "Minibatch:34 Train Loss:0.0225 Val Loss: 0.0225 Train Accuracy: 0.7188 Validation Accuracy: 0.7188\n",
      "Minibatch:35 Train Loss:0.0229 Val Loss: 0.0229 Train Accuracy: 0.6875 Validation Accuracy: 0.6875\n",
      "Minibatch:36 Train Loss:0.0198 Val Loss: 0.0198 Train Accuracy: 0.6875 Validation Accuracy: 0.6875\n",
      "Minibatch:37 Train Loss:0.0364 Val Loss: 0.0364 Train Accuracy: 0.6250 Validation Accuracy: 0.6250\n",
      "Minibatch:38 Train Loss:0.0238 Val Loss: 0.0238 Train Accuracy: 0.5938 Validation Accuracy: 0.5938\n",
      "Minibatch:39 Train Loss:0.0281 Val Loss: 0.0281 Train Accuracy: 0.6562 Validation Accuracy: 0.6562\n",
      "Minibatch:40 Train Loss:0.0292 Val Loss: 0.0292 Train Accuracy: 0.5312 Validation Accuracy: 0.5312\n",
      "Minibatch:41 Train Loss:0.0253 Val Loss: 0.0253 Train Accuracy: 0.6250 Validation Accuracy: 0.6250\n",
      "Minibatch:42 Train Loss:0.0239 Val Loss: 0.0239 Train Accuracy: 0.5625 Validation Accuracy: 0.5625\n",
      "Minibatch:43 Train Loss:0.0262 Val Loss: 0.0262 Train Accuracy: 0.6562 Validation Accuracy: 0.6562\n",
      "Minibatch:44 Train Loss:0.0252 Val Loss: 0.0252 Train Accuracy: 0.7188 Validation Accuracy: 0.7188\n",
      "Minibatch:45 Train Loss:0.0165 Val Loss: 0.0165 Train Accuracy: 0.7500 Validation Accuracy: 0.7500\n",
      "Minibatch:46 Train Loss:0.0273 Val Loss: 0.0273 Train Accuracy: 0.5938 Validation Accuracy: 0.5938\n",
      "Minibatch:47 Train Loss:0.0192 Val Loss: 0.0192 Train Accuracy: 0.7500 Validation Accuracy: 0.7500\n",
      "Minibatch:48 Train Loss:0.0213 Val Loss: 0.0213 Train Accuracy: 0.6875 Validation Accuracy: 0.6875\n",
      "Minibatch:49 Train Loss:0.0163 Val Loss: 0.0163 Train Accuracy: 0.7500 Validation Accuracy: 0.7500\n",
      "Minibatch:50 Train Loss:0.0263 Val Loss: 0.0263 Train Accuracy: 0.6562 Validation Accuracy: 0.6562\n",
      "Minibatch:51 Train Loss:0.0207 Val Loss: 0.0207 Train Accuracy: 0.6875 Validation Accuracy: 0.6875\n",
      "Minibatch:52 Train Loss:0.0198 Val Loss: 0.0198 Train Accuracy: 0.6875 Validation Accuracy: 0.6875\n",
      "Minibatch:53 Train Loss:0.0273 Val Loss: 0.0273 Train Accuracy: 0.6250 Validation Accuracy: 0.6250\n",
      "Minibatch:54 Train Loss:0.0247 Val Loss: 0.0247 Train Accuracy: 0.5625 Validation Accuracy: 0.5625\n",
      "Minibatch:55 Train Loss:0.0163 Val Loss: 0.0163 Train Accuracy: 0.6562 Validation Accuracy: 0.6562\n",
      "Minibatch:56 Train Loss:0.0293 Val Loss: 0.0293 Train Accuracy: 0.5312 Validation Accuracy: 0.5312\n",
      "Minibatch:57 Train Loss:0.0239 Val Loss: 0.0239 Train Accuracy: 0.6875 Validation Accuracy: 0.6875\n",
      "Minibatch:58 Train Loss:0.0220 Val Loss: 0.0220 Train Accuracy: 0.6875 Validation Accuracy: 0.6875\n",
      "Minibatch:59 Train Loss:0.0243 Val Loss: 0.0243 Train Accuracy: 0.7188 Validation Accuracy: 0.7188\n",
      "Minibatch:60 Train Loss:0.0209 Val Loss: 0.0209 Train Accuracy: 0.8438 Validation Accuracy: 0.8438\n",
      "Minibatch:61 Train Loss:0.0257 Val Loss: 0.0257 Train Accuracy: 0.5938 Validation Accuracy: 0.5938\n",
      "Minibatch:62 Train Loss:0.0188 Val Loss: 0.0188 Train Accuracy: 0.7188 Validation Accuracy: 0.7188\n",
      "Minibatch:63 Train Loss:0.0216 Val Loss: 0.0216 Train Accuracy: 0.7188 Validation Accuracy: 0.7188\n",
      "Minibatch:64 Train Loss:0.0219 Val Loss: 0.0219 Train Accuracy: 0.7188 Validation Accuracy: 0.7188\n",
      "Minibatch:65 Train Loss:0.0350 Val Loss: 0.0350 Train Accuracy: 0.5938 Validation Accuracy: 0.5938\n",
      "Minibatch:66 Train Loss:0.0321 Val Loss: 0.0321 Train Accuracy: 0.5625 Validation Accuracy: 0.5625\n",
      "Minibatch:67 Train Loss:0.0271 Val Loss: 0.0271 Train Accuracy: 0.6250 Validation Accuracy: 0.6250\n",
      "Minibatch:68 Train Loss:0.0251 Val Loss: 0.0251 Train Accuracy: 0.5625 Validation Accuracy: 0.5625\n",
      "Minibatch:69 Train Loss:0.0255 Val Loss: 0.0255 Train Accuracy: 0.5625 Validation Accuracy: 0.5625\n",
      "Minibatch:70 Train Loss:0.0244 Val Loss: 0.0244 Train Accuracy: 0.6562 Validation Accuracy: 0.6562\n",
      "Minibatch:71 Train Loss:0.0226 Val Loss: 0.0226 Train Accuracy: 0.7812 Validation Accuracy: 0.7812\n",
      "Minibatch:72 Train Loss:0.0220 Val Loss: 0.0220 Train Accuracy: 0.8438 Validation Accuracy: 0.8438\n",
      "Minibatch:73 Train Loss:0.0268 Val Loss: 0.0268 Train Accuracy: 0.7500 Validation Accuracy: 0.7500\n",
      "Minibatch:74 Train Loss:0.0261 Val Loss: 0.0261 Train Accuracy: 0.6562 Validation Accuracy: 0.6562\n",
      "Minibatch:75 Train Loss:0.0211 Val Loss: 0.0211 Train Accuracy: 0.6250 Validation Accuracy: 0.6250\n",
      "Minibatch:76 Train Loss:0.0289 Val Loss: 0.0289 Train Accuracy: 0.5625 Validation Accuracy: 0.5625\n",
      "Minibatch:77 Train Loss:0.0423 Val Loss: 0.0423 Train Accuracy: 0.6842 Validation Accuracy: 0.6842\n",
      "Epoch:5 Train Loss:0.0268 Val Loss: 0.0267 Train Accuracy: 0.6047 Validation Accuracy: 0.6639\n",
      "CPU times: user 1h 54min 30s, sys: 35min 24s, total: 2h 29min 55s\n",
      "Wall time: 20min 2s\n"
     ]
    }
   ],
   "source": [
    "%%time\n",
    "cnn_trainer.run_training_loop(num_epochs=5)"
   ]
  },
  {
   "cell_type": "code",
   "execution_count": 12,
   "metadata": {},
   "outputs": [
    {
     "data": {
      "image/png": "[encoded data removed]",
      "text/plain": [
       "<Figure size 640x480 with 1 Axes>"
      ]
     },
     "metadata": {},
     "output_type": "display_data"
    },
    {
     "data": {
      "image/png": "[encoded data removed]",
      "text/plain": [
       "<Figure size 640x480 with 1 Axes>"
      ]
     },
     "metadata": {},
     "output_type": "display_data"
    },
    {
     "name": "stdout",
     "output_type": "stream",
     "text": [
      "Train Accuracy = 0.6046511628879717; Validation Accuracy = 0.6639477978133844\n"
     ]
    }
   ],
   "source": [
    "cnn_trainer.plot_loss_history()\n",
    "cnn_trainer.plot_accuracy()\n",
    "\n",
    "cnn_train_accuracy = cnn_trainer.train_accuracy_history[-1]\n",
    "cnn_validation_accuracy = cnn_trainer.validation_accuracy_history[-1]\n",
    "print(\n",
    "    \"Train Accuracy = {}; Validation Accuracy = {}\".format(\n",
    "        cnn_train_accuracy, cnn_validation_accuracy\n",
    "    )\n",
    ")"
   ]
  },
  {
   "cell_type": "code",
   "execution_count": 18,
   "metadata": {},
   "outputs": [
    {
     "name": "stdout",
     "output_type": "stream",
     "text": [
      "Saved training plots to ../src/models/CNN_3D/trained_CNN_3D_final.pt\n",
      "Saved training plots to ../results/\n"
     ]
    }
   ],
   "source": [
    "save_trained_model_weights(model_cnn, out_dir=os.path.join(model_path, \"CNN_3D\"))\n",
    "cnn_trainer.save_plots(path=results_path)"
   ]
  },
  {
   "cell_type": "markdown",
   "metadata": {},
   "source": [
    "# Step 2: Test ResNet Pretrained Model"
   ]
  },
  {
   "cell_type": "code",
   "execution_count": null,
   "metadata": {},
   "outputs": [],
   "source": [
    "inp_size = (224,224) # Double check"
   ]
  },
  {
   "cell_type": "code",
   "execution_count": null,
   "metadata": {},
   "outputs": [],
   "source": [
    "model_resnet = MyResNet(num_classes=num_classes)\n",
    "\n",
    "resnet_optimizer_config = {\"optimizer_type\": \"adam\", \"lr\": 1e-3, \"weight_decay\": 1e-8} # Tune these\n",
    "resnet_optimizer = get_optimizer(model_resnet, resnet_optimizer_config)\n",
    "\n",
    "resnet_trainer = Trainer(\n",
    "    data_dir=data_path,\n",
    "    model=model_resnet,\n",
    "    optimizer=resnet_optimizer,\n",
    "    model_dir=os.path.join(model_path, \"ResNet\"),\n",
    "    train_data_transforms=get_all_transforms(inp_size, [dataset_mean], [dataset_std]),\n",
    "    val_data_transforms=get_fundamental_normalization_transforms(\n",
    "        inp_size, [dataset_mean], [dataset_std]\n",
    "    ),\n",
    "    batch_size=batch_size,\n",
    "    load_from_disk=False,\n",
    "    cuda=torch.cuda.is_available(),\n",
    ")"
   ]
  },
  {
   "cell_type": "code",
   "execution_count": null,
   "metadata": {},
   "outputs": [],
   "source": [
    "%%time\n",
    "resnet_trainer.run_training_loop(num_epochs=5)"
   ]
  },
  {
   "cell_type": "code",
   "execution_count": null,
   "metadata": {},
   "outputs": [],
   "source": [
    "save_trained_model_weights(model_resnet, out_dir=os.path.join(model_path, \"ResNet\"))"
   ]
  },
  {
   "cell_type": "markdown",
   "metadata": {},
   "source": [
    "# Step 3: Test Inception Pretrained Model"
   ]
  },
  {
   "cell_type": "code",
   "execution_count": null,
   "metadata": {},
   "outputs": [],
   "source": [
    "inp_size = (299,299) # Double check"
   ]
  },
  {
   "cell_type": "code",
   "execution_count": null,
   "metadata": {},
   "outputs": [],
   "source": [
    "model_inception = MyInception(num_classes=num_classes)\n",
    "\n",
    "inception_optimizer_config = {\"optimizer_type\": \"adam\", \"lr\": 1e-3, \"weight_decay\": 1e-8} # Tune these\n",
    "inception_optimizer = get_optimizer(model_inception, inception_optimizer_config)\n",
    "\n",
    "inception_trainer = Trainer(\n",
    "    data_dir=data_path,\n",
    "    model=model_inception,\n",
    "    optimizer=inception_optimizer,\n",
    "    model_dir=os.path.join(model_path, \"Inception\"),\n",
    "    train_data_transforms=get_all_transforms(inp_size, [dataset_mean], [dataset_std]),\n",
    "    val_data_transforms=get_fundamental_normalization_transforms(\n",
    "        inp_size, [dataset_mean], [dataset_std]\n",
    "    ),\n",
    "    batch_size=batch_size,\n",
    "    load_from_disk=False,\n",
    "    cuda=torch.cuda.is_available(),\n",
    ")"
   ]
  },
  {
   "cell_type": "code",
   "execution_count": null,
   "metadata": {},
   "outputs": [],
   "source": [
    "%%time\n",
    "inception_trainer.run_training_loop(num_epochs=5)"
   ]
  },
  {
   "cell_type": "code",
   "execution_count": null,
   "metadata": {},
   "outputs": [],
   "source": [
    "save_trained_model_weights(model_inception, out_dir=os.path.join(model_path, \"Inception\"))"
   ]
  },
  {
   "cell_type": "markdown",
   "metadata": {},
   "source": [
    "# Step 4: Analyze Graphs and Final Accuracies"
   ]
  },
  {
   "cell_type": "markdown",
   "metadata": {},
   "source": [
    "### Model Parameters"
   ]
  },
  {
   "cell_type": "code",
   "execution_count": null,
   "metadata": {},
   "outputs": [],
   "source": [
    "print('3D CNN:', model_cnn.count_parameters())\n",
    "print('ResNet:', model_resnet.count_parameters())\n",
    "print('Inception:', model_inception.count_parameters())"
   ]
  },
  {
   "cell_type": "markdown",
   "metadata": {},
   "source": [
    "### Loss & Accuracy Graphs"
   ]
  },
  {
   "cell_type": "code",
   "execution_count": null,
   "metadata": {},
   "outputs": [],
   "source": [
    "cnn_trainer.plot_loss_history()\n",
    "cnn_trainer.plot_accuracy()\n",
    "\n",
    "cnn_train_accuracy = cnn_trainer.train_accuracy_history[-1]\n",
    "cnn_validation_accuracy = cnn_trainer.validation_accuracy_history[-1]\n",
    "print(\n",
    "    \"Train Accuracy = {}; Validation Accuracy = {}\".format(\n",
    "        cnn_train_accuracy, cnn_validation_accuracy\n",
    "    )\n",
    ")"
   ]
  },
  {
   "cell_type": "code",
   "execution_count": null,
   "metadata": {},
   "outputs": [],
   "source": [
    "resnet_trainer.plot_loss_history()\n",
    "resnet_trainer.plot_accuracy()\n",
    "\n",
    "resnet_train_accuracy = resnet_trainer.train_accuracy_history[-1]\n",
    "resnet_validation_accuracy = resnet_trainer.validation_accuracy_history[-1]\n",
    "print(\n",
    "    \"Train Accuracy = {}; Validation Accuracy = {}\".format(\n",
    "        resnet_train_accuracy, resnet_validation_accuracy\n",
    "    )\n",
    ")"
   ]
  },
  {
   "cell_type": "code",
   "execution_count": null,
   "metadata": {},
   "outputs": [],
   "source": [
    "inception_trainer.plot_loss_history()\n",
    "inception_trainer.plot_accuracy()\n",
    "\n",
    "inception_train_accuracy = inception_trainer.train_accuracy_history[-1]\n",
    "inception_validation_accuracy = inception_trainer.validation_accuracy_history[-1]\n",
    "print(\n",
    "    \"Train Accuracy = {}; Validation Accuracy = {}\".format(\n",
    "        inception_train_accuracy, inception_validation_accuracy\n",
    "    )\n",
    ")"
   ]
  },
  {
   "cell_type": "markdown",
   "metadata": {},
   "source": [
    "### Confusion Matrices"
   ]
  },
  {
   "cell_type": "code",
   "execution_count": null,
   "metadata": {},
   "outputs": [],
   "source": [
    "generate_and_plot_confusion_matrix(model_cnn, cnn_trainer.val_dataset, use_cuda=torch.cuda.is_available())"
   ]
  },
  {
   "cell_type": "code",
   "execution_count": null,
   "metadata": {},
   "outputs": [],
   "source": [
    "generate_and_plot_confusion_matrix(model_resnet, resnet_trainer.val_dataset, use_cuda=torch.cuda.is_available())"
   ]
  },
  {
   "cell_type": "code",
   "execution_count": null,
   "metadata": {},
   "outputs": [],
   "source": [
    "generate_and_plot_confusion_matrix(model_inception, inception_trainer.val_dataset, use_cuda=torch.cuda.is_available())"
   ]
  },
  {
   "cell_type": "markdown",
   "metadata": {},
   "source": [
    "### Analyze errors that occurred from confusion matrix"
   ]
  },
  {
   "cell_type": "code",
   "execution_count": null,
   "metadata": {},
   "outputs": [],
   "source": [
    "trainer = resnet_trainer # Change this\n",
    "model = model_resnet # Change this\n",
    "\n",
    "# Analyze confusion matrix and change these to observe results\n",
    "predicted_class_num = 0\n",
    "true_class_num = 0\n",
    "\n",
    "correct_class = [k for k, v in trainer.val_dataset.class_dict.items() if v == true_class_num][0]\n",
    "pred_class = key = [k for k, v in trainer.val_dataset.class_dict.items() if v == predicted_class_num][0]\n",
    "print(trainer.val_dataset.class_dict)\n",
    "\n",
    "paths = get_pred_images_for_target(model, trainer.val_dataset, predicted_class_num, true_class_num, torch.cuda.is_available())\n",
    "max_count = 10\n",
    "count = 0\n",
    "for path in paths:\n",
    "    img = Image.open(path).convert(mode='L')\n",
    "    if (count != max_count):\n",
    "        plt.imshow(img, cmap='gray')\n",
    "        plt.title(f'Image of {correct_class}, misclassified as {pred_class}')\n",
    "        plt.axis('off')  # Removes axis ticks\n",
    "        plt.show()\n",
    "        count += 1"
   ]
  }
 ],
 "metadata": {
  "kernelspec": {
   "display_name": "TumorTrace",
   "language": "python",
   "name": "python3"
  },
  "language_info": {
   "codemirror_mode": {
    "name": "ipython",
    "version": 3
   },
   "file_extension": ".py",
   "mimetype": "text/x-python",
   "name": "python",
   "nbconvert_exporter": "python",
   "pygments_lexer": "ipython3",
   "version": "3.11.12"
  }
 },
 "nbformat": 4,
 "nbformat_minor": 2
}
